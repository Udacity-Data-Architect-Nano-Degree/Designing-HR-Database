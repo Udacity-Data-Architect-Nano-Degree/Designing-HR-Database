{
 "cells": [
  {
   "cell_type": "markdown",
   "metadata": {},
   "source": [
    "# Load data"
   ]
  },
  {
   "cell_type": "code",
   "execution_count": 2,
   "metadata": {},
   "outputs": [],
   "source": [
    "# import libraries\n",
    "import pandas as pd\n",
    "from sqlalchemy import create_engine"
   ]
  },
  {
   "cell_type": "code",
   "execution_count": 3,
   "metadata": {},
   "outputs": [],
   "source": [
    "# Database connection parameters\n",
    "db_user = 'postgres'\n",
    "db_password = 'Asmara2204'\n",
    "db_host = 'localhost'\n",
    "db_port = '5432'\n",
    "db_name = 'abc_corp'"
   ]
  },
  {
   "cell_type": "code",
   "execution_count": 4,
   "metadata": {},
   "outputs": [],
   "source": [
    "# Create a database connection\n",
    "engine = create_engine(f'postgresql+psycopg2://{db_user}:{db_password}@{db_host}:{db_port}/{db_name}')"
   ]
  },
  {
   "cell_type": "code",
   "execution_count": 5,
   "metadata": {},
   "outputs": [],
   "source": [
    "# Load the Excel data into a DataFrame\n",
    "file_path = '../hr-dataset.xlsx'\n",
    "df = pd.read_excel(file_path, sheet_name='HR Data')"
   ]
  },
  {
   "cell_type": "code",
   "execution_count": 11,
   "metadata": {},
   "outputs": [
    {
     "data": {
      "text/html": [
       "<div>\n",
       "<style scoped>\n",
       "    .dataframe tbody tr th:only-of-type {\n",
       "        vertical-align: middle;\n",
       "    }\n",
       "\n",
       "    .dataframe tbody tr th {\n",
       "        vertical-align: top;\n",
       "    }\n",
       "\n",
       "    .dataframe thead th {\n",
       "        text-align: right;\n",
       "    }\n",
       "</style>\n",
       "<table border=\"1\" class=\"dataframe\">\n",
       "  <thead>\n",
       "    <tr style=\"text-align: right;\">\n",
       "      <th></th>\n",
       "      <th>department</th>\n",
       "    </tr>\n",
       "  </thead>\n",
       "  <tbody>\n",
       "    <tr>\n",
       "      <th>0</th>\n",
       "      <td>Distribution</td>\n",
       "    </tr>\n",
       "    <tr>\n",
       "      <th>6</th>\n",
       "      <td>HQ</td>\n",
       "    </tr>\n",
       "    <tr>\n",
       "      <th>12</th>\n",
       "      <td>IT</td>\n",
       "    </tr>\n",
       "    <tr>\n",
       "      <th>18</th>\n",
       "      <td>Product Development</td>\n",
       "    </tr>\n",
       "    <tr>\n",
       "      <th>27</th>\n",
       "      <td>Sales</td>\n",
       "    </tr>\n",
       "  </tbody>\n",
       "</table>\n",
       "</div>"
      ],
      "text/plain": [
       "             department\n",
       "0          Distribution\n",
       "6                    HQ\n",
       "12                   IT\n",
       "18  Product Development\n",
       "27                Sales"
      ]
     },
     "execution_count": 11,
     "metadata": {},
     "output_type": "execute_result"
    }
   ],
   "source": [
    "# department dataframe\n",
    "departments_df = df[['DEPARTMENT']].drop_duplicates()\n",
    "departments_df.columns = departments_df.columns.str.lower()\n",
    "departments_df.head()"
   ]
  },
  {
   "cell_type": "code",
   "execution_count": 12,
   "metadata": {},
   "outputs": [
    {
     "data": {
      "text/plain": [
       "5"
      ]
     },
     "execution_count": 12,
     "metadata": {},
     "output_type": "execute_result"
    }
   ],
   "source": [
    "# insert data into department table\n",
    "departments_df.to_sql('department', engine, if_exists='append', index=False)"
   ]
  },
  {
   "cell_type": "code",
   "execution_count": 16,
   "metadata": {},
   "outputs": [
    {
     "data": {
      "text/html": [
       "<div>\n",
       "<style scoped>\n",
       "    .dataframe tbody tr th:only-of-type {\n",
       "        vertical-align: middle;\n",
       "    }\n",
       "\n",
       "    .dataframe tbody tr th {\n",
       "        vertical-align: top;\n",
       "    }\n",
       "\n",
       "    .dataframe thead th {\n",
       "        text-align: right;\n",
       "    }\n",
       "</style>\n",
       "<table border=\"1\" class=\"dataframe\">\n",
       "  <thead>\n",
       "    <tr style=\"text-align: right;\">\n",
       "      <th></th>\n",
       "      <th>education_level</th>\n",
       "    </tr>\n",
       "  </thead>\n",
       "  <tbody>\n",
       "    <tr>\n",
       "      <th>0</th>\n",
       "      <td>No College</td>\n",
       "    </tr>\n",
       "    <tr>\n",
       "      <th>1</th>\n",
       "      <td>Some College</td>\n",
       "    </tr>\n",
       "    <tr>\n",
       "      <th>2</th>\n",
       "      <td>Associates Degree</td>\n",
       "    </tr>\n",
       "    <tr>\n",
       "      <th>17</th>\n",
       "      <td>Bachelors Degree</td>\n",
       "    </tr>\n",
       "    <tr>\n",
       "      <th>35</th>\n",
       "      <td>Masters Degree</td>\n",
       "    </tr>\n",
       "  </tbody>\n",
       "</table>\n",
       "</div>"
      ],
      "text/plain": [
       "      education_level\n",
       "0          No College\n",
       "1        Some College\n",
       "2   Associates Degree\n",
       "17   Bachelors Degree\n",
       "35     Masters Degree"
      ]
     },
     "execution_count": 16,
     "metadata": {},
     "output_type": "execute_result"
    }
   ],
   "source": [
    "# education dataframe\n",
    "education_df = df[['EDUCATION LEVEL']].drop_duplicates()\n",
    "education_df.columns = ['education_level']\n",
    "education_df.head()\n"
   ]
  },
  {
   "cell_type": "code",
   "execution_count": 17,
   "metadata": {},
   "outputs": [
    {
     "data": {
      "text/plain": [
       "7"
      ]
     },
     "execution_count": 17,
     "metadata": {},
     "output_type": "execute_result"
    }
   ],
   "source": [
    "# insert data into education table\n",
    "education_df.to_sql('education', engine, if_exists='append', index=False)"
   ]
  },
  {
   "cell_type": "code",
   "execution_count": 19,
   "metadata": {},
   "outputs": [
    {
     "name": "stdout",
     "output_type": "stream",
     "text": [
      "                    job_title\n",
      "0    Administrative Assistant\n",
      "30     Database Administrator\n",
      "38            Design Engineer\n",
      "50              Legal Counsel\n",
      "68                    Manager\n",
      "72           Network Engineer\n",
      "93                  President\n",
      "94                  Sales Rep\n",
      "156    Shipping and Receiving\n",
      "171         Software Engineer\n"
     ]
    }
   ],
   "source": [
    "# job dataframe\n",
    "job_df = df[['JOB_TITLE']].drop_duplicates()\n",
    "job_df.columns = job_df.columns.str.lower()\n",
    "print(job_df)"
   ]
  },
  {
   "cell_type": "code",
   "execution_count": 20,
   "metadata": {},
   "outputs": [
    {
     "data": {
      "text/plain": [
       "10"
      ]
     },
     "execution_count": 20,
     "metadata": {},
     "output_type": "execute_result"
    }
   ],
   "source": [
    "# insert data into job table\n",
    "job_df.to_sql('job', engine, if_exists='append', index=False)"
   ]
  },
  {
   "cell_type": "code",
   "execution_count": 24,
   "metadata": {},
   "outputs": [
    {
     "name": "stdout",
     "output_type": "stream",
     "text": [
      "5\n"
     ]
    }
   ],
   "source": [
    "# location dataframe\n",
    "locations_df = df[['LOCATION', 'ADDRESS', 'CITY', 'STATE']].drop_duplicates(subset=['LOCATION', 'ADDRESS', 'CITY', 'STATE'])\n",
    "locations_df.columns = locations_df.columns.str.lower()\n",
    "print(len(locations_df))"
   ]
  },
  {
   "cell_type": "code",
   "execution_count": 22,
   "metadata": {},
   "outputs": [
    {
     "data": {
      "text/plain": [
       "5"
      ]
     },
     "execution_count": 22,
     "metadata": {},
     "output_type": "execute_result"
    }
   ],
   "source": [
    "# insert data into location table\n",
    "locations_df.to_sql('location', engine, if_exists='append', index=False)"
   ]
  },
  {
   "cell_type": "code",
   "execution_count": 52,
   "metadata": {},
   "outputs": [],
   "source": [
    "# manager dataframe\n",
    "manager_df = df[df['MANAGER'].notnull()][['MANAGER']].drop_duplicates()\n",
    "manager_df = df[df['EMP_NM'].isin(manager_df['MANAGER'])][['EMAIL', 'EMP_NM', 'DEPARTMENT']].drop_duplicates()\n",
    "manager_df.columns = manager_df.columns.str.lower()\n",
    "manager_df = manager_df.merge(departments_df, on='department', how='left')\n",
    "\n",
    "\n",
    "\n"
   ]
  },
  {
   "cell_type": "code",
   "execution_count": 54,
   "metadata": {},
   "outputs": [
    {
     "name": "stdout",
     "output_type": "stream",
     "text": [
      "                               email          manager_name  department_id\n",
      "0        Allison.Gentle@TechCorp.com        Allison Gentle              1\n",
      "1          Jacob.Lauber@TechCorp.com          Jacob Lauber              3\n",
      "2          Conner.Kinch@TechCorp.com          Conner Kinch              4\n",
      "3  Jennifer.De La Garza@TechCorp.com  Jennifer De La Garza              5\n",
      "4      Tyrone.Hutchison@TechCorp.com      Tyrone Hutchison              2\n"
     ]
    }
   ],
   "source": [
    "# read department table to a dataframe to get department_id\n",
    "department_df = pd.read_sql_table('department', engine)\n",
    "manager_df = manager_df.merge(department_df, left_on='department', right_on='department', how='left')\n",
    "manager_df = manager_df[['email', 'emp_nm', 'department_id']]\n",
    "manager_df.columns = ['email', 'manager_name', 'department_id']\n",
    "print(manager_df)"
   ]
  },
  {
   "cell_type": "code",
   "execution_count": 55,
   "metadata": {},
   "outputs": [
    {
     "data": {
      "text/plain": [
       "5"
      ]
     },
     "execution_count": 55,
     "metadata": {},
     "output_type": "execute_result"
    }
   ],
   "source": [
    "# insert data into manager table\n",
    "manager_df.to_sql('manager', engine, if_exists='append', index=False)"
   ]
  },
  {
   "cell_type": "code",
   "execution_count": 101,
   "metadata": {},
   "outputs": [],
   "source": [
    "# employee dataframe\n",
    "employee_df = df[['EMP_ID', 'EMP_NM', 'EMAIL', 'HIRE_DT', 'JOB_TITLE', 'DEPARTMENT', 'MANAGER', 'EDUCATION LEVEL']].copy()"
   ]
  },
  {
   "cell_type": "code",
   "execution_count": 102,
   "metadata": {},
   "outputs": [
    {
     "data": {
      "text/html": [
       "<div>\n",
       "<style scoped>\n",
       "    .dataframe tbody tr th:only-of-type {\n",
       "        vertical-align: middle;\n",
       "    }\n",
       "\n",
       "    .dataframe tbody tr th {\n",
       "        vertical-align: top;\n",
       "    }\n",
       "\n",
       "    .dataframe thead th {\n",
       "        text-align: right;\n",
       "    }\n",
       "</style>\n",
       "<table border=\"1\" class=\"dataframe\">\n",
       "  <thead>\n",
       "    <tr style=\"text-align: right;\">\n",
       "      <th></th>\n",
       "      <th>emp_id</th>\n",
       "      <th>emp_nm</th>\n",
       "      <th>email</th>\n",
       "      <th>hire_dt</th>\n",
       "      <th>job_title</th>\n",
       "      <th>department</th>\n",
       "      <th>manager_name</th>\n",
       "      <th>education_level</th>\n",
       "    </tr>\n",
       "  </thead>\n",
       "  <tbody>\n",
       "    <tr>\n",
       "      <th>0</th>\n",
       "      <td>E17469</td>\n",
       "      <td>Haifa Hajiri</td>\n",
       "      <td>Haifa.Hajiri@TechCorp.com</td>\n",
       "      <td>2003-12-17</td>\n",
       "      <td>Administrative Assistant</td>\n",
       "      <td>Distribution</td>\n",
       "      <td>Allison Gentle</td>\n",
       "      <td>No College</td>\n",
       "    </tr>\n",
       "    <tr>\n",
       "      <th>1</th>\n",
       "      <td>E27621</td>\n",
       "      <td>Wendell Mobley</td>\n",
       "      <td>Wendell.Mobley@TechCorp.com</td>\n",
       "      <td>2013-11-27</td>\n",
       "      <td>Administrative Assistant</td>\n",
       "      <td>Distribution</td>\n",
       "      <td>Allison Gentle</td>\n",
       "      <td>Some College</td>\n",
       "    </tr>\n",
       "    <tr>\n",
       "      <th>2</th>\n",
       "      <td>E27909</td>\n",
       "      <td>Michael Sperduti</td>\n",
       "      <td>Michael.Sperduti@TechCorp.com</td>\n",
       "      <td>2014-06-20</td>\n",
       "      <td>Administrative Assistant</td>\n",
       "      <td>Distribution</td>\n",
       "      <td>Allison Gentle</td>\n",
       "      <td>Associates Degree</td>\n",
       "    </tr>\n",
       "    <tr>\n",
       "      <th>3</th>\n",
       "      <td>E35053</td>\n",
       "      <td>Ashley Bergman</td>\n",
       "      <td>Ashley.Bergman@TechCorp.com</td>\n",
       "      <td>2009-03-01</td>\n",
       "      <td>Administrative Assistant</td>\n",
       "      <td>Distribution</td>\n",
       "      <td>Allison Gentle</td>\n",
       "      <td>No College</td>\n",
       "    </tr>\n",
       "    <tr>\n",
       "      <th>4</th>\n",
       "      <td>E51723</td>\n",
       "      <td>Carlos Lopez</td>\n",
       "      <td>Carlos.Lopez@TechCorp.com</td>\n",
       "      <td>2014-05-23</td>\n",
       "      <td>Administrative Assistant</td>\n",
       "      <td>Distribution</td>\n",
       "      <td>Allison Gentle</td>\n",
       "      <td>No College</td>\n",
       "    </tr>\n",
       "  </tbody>\n",
       "</table>\n",
       "</div>"
      ],
      "text/plain": [
       "   emp_id            emp_nm                          email    hire_dt  \\\n",
       "0  E17469      Haifa Hajiri      Haifa.Hajiri@TechCorp.com 2003-12-17   \n",
       "1  E27621    Wendell Mobley    Wendell.Mobley@TechCorp.com 2013-11-27   \n",
       "2  E27909  Michael Sperduti  Michael.Sperduti@TechCorp.com 2014-06-20   \n",
       "3  E35053    Ashley Bergman    Ashley.Bergman@TechCorp.com 2009-03-01   \n",
       "4  E51723      Carlos Lopez      Carlos.Lopez@TechCorp.com 2014-05-23   \n",
       "\n",
       "                  job_title    department    manager_name    education_level  \n",
       "0  Administrative Assistant  Distribution  Allison Gentle         No College  \n",
       "1  Administrative Assistant  Distribution  Allison Gentle       Some College  \n",
       "2  Administrative Assistant  Distribution  Allison Gentle  Associates Degree  \n",
       "3  Administrative Assistant  Distribution  Allison Gentle         No College  \n",
       "4  Administrative Assistant  Distribution  Allison Gentle         No College  "
      ]
     },
     "execution_count": 102,
     "metadata": {},
     "output_type": "execute_result"
    }
   ],
   "source": [
    "employee_df.drop_duplicates(inplace=True)\n",
    "employee_df.columns = employee_df.columns.str.lower()\n",
    "employee_df = employee_df.rename(columns={'education level': 'education_level', 'manager': 'manager_name'})\n",
    "employee_df.head()"
   ]
  },
  {
   "cell_type": "code",
   "execution_count": 103,
   "metadata": {},
   "outputs": [
    {
     "name": "stdout",
     "output_type": "stream",
     "text": [
      "     emp_id        emp_nm                      email    hire_dt  \\\n",
      "32   E27498  Toni Lembeck  Toni.Lembeck@TechCorp.com 2001-07-18   \n",
      "201  E27498  Toni Lembeck  Toni.Lembeck@TechCorp.com 2001-07-18   \n",
      "\n",
      "                  job_title department  manager_name   education_level  \n",
      "32   Database Administrator         IT  Jacob Lauber  Bachelors Degree  \n",
      "201        Network Engineer         IT  Jacob Lauber  Bachelors Degree  \n"
     ]
    }
   ],
   "source": [
    "# extract the details for the email Toni.Lembeck@TechCorp.com\n",
    "print(employee_df[employee_df['email'] == 'Toni.Lembeck@TechCorp.com'])\n"
   ]
  },
  {
   "cell_type": "code",
   "execution_count": 104,
   "metadata": {},
   "outputs": [],
   "source": [
    "# read job table, department table, manager table, and education table to a dataframe to get job_id, department_id, manager_id, and education_id\n",
    "job_df = pd.read_sql_table('job', engine)\n",
    "department_df = pd.read_sql_table('department', engine)\n",
    "manager_df = pd.read_sql_table('manager', engine)\n",
    "education_df = pd.read_sql_table('education', engine)\n",
    "\n",
    "# Rename the conflicting column in department_df\n",
    "\n",
    "employee_df = employee_df.merge(job_df, left_on='job_title', right_on='job_title', how='left', suffixes=('', '_job'))\n",
    "employee_df = employee_df.merge(department_df, left_on='department', right_on='department', how='left', suffixes=('', '_department'))\n",
    "employee_df = employee_df.merge(manager_df, left_on='manager_name', right_on='manager_name', how='left', suffixes=('', '_manager'))\n",
    "employee_df = employee_df.merge(education_df, left_on='education_level', right_on='education_level', how='left', suffixes=('', '_education'))\n",
    "\n",
    "employee_df = employee_df[['emp_id', 'emp_nm', 'email', 'hire_dt', 'job_title_id', 'department_id', 'manager_id', 'education_id']]\n",
    "\n"
   ]
  },
  {
   "cell_type": "code",
   "execution_count": 105,
   "metadata": {},
   "outputs": [
    {
     "data": {
      "text/plain": [
       "Index(['emp_id', 'emp_nm', 'email', 'hire_dt', 'job_title_id', 'department_id',\n",
       "       'manager_id', 'education_id'],\n",
       "      dtype='object')"
      ]
     },
     "execution_count": 105,
     "metadata": {},
     "output_type": "execute_result"
    }
   ],
   "source": [
    "employee_df.columns"
   ]
  },
  {
   "cell_type": "code",
   "execution_count": 106,
   "metadata": {},
   "outputs": [
    {
     "data": {
      "text/html": [
       "<div>\n",
       "<style scoped>\n",
       "    .dataframe tbody tr th:only-of-type {\n",
       "        vertical-align: middle;\n",
       "    }\n",
       "\n",
       "    .dataframe tbody tr th {\n",
       "        vertical-align: top;\n",
       "    }\n",
       "\n",
       "    .dataframe thead th {\n",
       "        text-align: right;\n",
       "    }\n",
       "</style>\n",
       "<table border=\"1\" class=\"dataframe\">\n",
       "  <thead>\n",
       "    <tr style=\"text-align: right;\">\n",
       "      <th></th>\n",
       "      <th>emp_id</th>\n",
       "      <th>emp_nm</th>\n",
       "      <th>email</th>\n",
       "      <th>hire_dt</th>\n",
       "      <th>job_title_id</th>\n",
       "      <th>department_id</th>\n",
       "      <th>manager_id</th>\n",
       "      <th>education_id</th>\n",
       "    </tr>\n",
       "  </thead>\n",
       "  <tbody>\n",
       "    <tr>\n",
       "      <th>0</th>\n",
       "      <td>E17469</td>\n",
       "      <td>Haifa Hajiri</td>\n",
       "      <td>Haifa.Hajiri@TechCorp.com</td>\n",
       "      <td>2003-12-17</td>\n",
       "      <td>1</td>\n",
       "      <td>1</td>\n",
       "      <td>1.0</td>\n",
       "      <td>1</td>\n",
       "    </tr>\n",
       "    <tr>\n",
       "      <th>1</th>\n",
       "      <td>E27621</td>\n",
       "      <td>Wendell Mobley</td>\n",
       "      <td>Wendell.Mobley@TechCorp.com</td>\n",
       "      <td>2013-11-27</td>\n",
       "      <td>1</td>\n",
       "      <td>1</td>\n",
       "      <td>1.0</td>\n",
       "      <td>2</td>\n",
       "    </tr>\n",
       "    <tr>\n",
       "      <th>2</th>\n",
       "      <td>E27909</td>\n",
       "      <td>Michael Sperduti</td>\n",
       "      <td>Michael.Sperduti@TechCorp.com</td>\n",
       "      <td>2014-06-20</td>\n",
       "      <td>1</td>\n",
       "      <td>1</td>\n",
       "      <td>1.0</td>\n",
       "      <td>3</td>\n",
       "    </tr>\n",
       "    <tr>\n",
       "      <th>3</th>\n",
       "      <td>E35053</td>\n",
       "      <td>Ashley Bergman</td>\n",
       "      <td>Ashley.Bergman@TechCorp.com</td>\n",
       "      <td>2009-03-01</td>\n",
       "      <td>1</td>\n",
       "      <td>1</td>\n",
       "      <td>1.0</td>\n",
       "      <td>1</td>\n",
       "    </tr>\n",
       "    <tr>\n",
       "      <th>4</th>\n",
       "      <td>E51723</td>\n",
       "      <td>Carlos Lopez</td>\n",
       "      <td>Carlos.Lopez@TechCorp.com</td>\n",
       "      <td>2014-05-23</td>\n",
       "      <td>1</td>\n",
       "      <td>1</td>\n",
       "      <td>1.0</td>\n",
       "      <td>1</td>\n",
       "    </tr>\n",
       "  </tbody>\n",
       "</table>\n",
       "</div>"
      ],
      "text/plain": [
       "   emp_id            emp_nm                          email    hire_dt  \\\n",
       "0  E17469      Haifa Hajiri      Haifa.Hajiri@TechCorp.com 2003-12-17   \n",
       "1  E27621    Wendell Mobley    Wendell.Mobley@TechCorp.com 2013-11-27   \n",
       "2  E27909  Michael Sperduti  Michael.Sperduti@TechCorp.com 2014-06-20   \n",
       "3  E35053    Ashley Bergman    Ashley.Bergman@TechCorp.com 2009-03-01   \n",
       "4  E51723      Carlos Lopez      Carlos.Lopez@TechCorp.com 2014-05-23   \n",
       "\n",
       "   job_title_id  department_id  manager_id  education_id  \n",
       "0             1              1         1.0             1  \n",
       "1             1              1         1.0             2  \n",
       "2             1              1         1.0             3  \n",
       "3             1              1         1.0             1  \n",
       "4             1              1         1.0             1  "
      ]
     },
     "execution_count": 106,
     "metadata": {},
     "output_type": "execute_result"
    }
   ],
   "source": [
    "employee_df.head()"
   ]
  },
  {
   "cell_type": "code",
   "execution_count": 107,
   "metadata": {},
   "outputs": [
    {
     "name": "stdout",
     "output_type": "stream",
     "text": [
      "     emp_id        emp_nm                      email    hire_dt  job_title_id  \\\n",
      "32   E27498  Toni Lembeck  Toni.Lembeck@TechCorp.com 2001-07-18             2   \n",
      "201  E27498  Toni Lembeck  Toni.Lembeck@TechCorp.com 2001-07-18             6   \n",
      "\n",
      "     department_id  manager_id  education_id  \n",
      "32               3         2.0             4  \n",
      "201              3         2.0             4  \n"
     ]
    }
   ],
   "source": [
    "# extract the details for the email Toni.Lembeck@TechCorp.com\n",
    "print(employee_df[employee_df['email'] == 'Toni.Lembeck@TechCorp.com'])"
   ]
  },
  {
   "cell_type": "code",
   "execution_count": 108,
   "metadata": {},
   "outputs": [
    {
     "data": {
      "text/plain": [
       "205"
      ]
     },
     "execution_count": 108,
     "metadata": {},
     "output_type": "execute_result"
    }
   ],
   "source": [
    "# insert data into employee table\n",
    "employee_df.to_sql('employee', engine, if_exists='append', index=False)"
   ]
  },
  {
   "cell_type": "code",
   "execution_count": 6,
   "metadata": {},
   "outputs": [
    {
     "data": {
      "text/html": [
       "<div>\n",
       "<style scoped>\n",
       "    .dataframe tbody tr th:only-of-type {\n",
       "        vertical-align: middle;\n",
       "    }\n",
       "\n",
       "    .dataframe tbody tr th {\n",
       "        vertical-align: top;\n",
       "    }\n",
       "\n",
       "    .dataframe thead th {\n",
       "        text-align: right;\n",
       "    }\n",
       "</style>\n",
       "<table border=\"1\" class=\"dataframe\">\n",
       "  <thead>\n",
       "    <tr style=\"text-align: right;\">\n",
       "      <th></th>\n",
       "      <th>emp_id</th>\n",
       "      <th>salary</th>\n",
       "      <th>start_dt</th>\n",
       "      <th>end_dt</th>\n",
       "    </tr>\n",
       "  </thead>\n",
       "  <tbody>\n",
       "    <tr>\n",
       "      <th>0</th>\n",
       "      <td>E17469</td>\n",
       "      <td>47418</td>\n",
       "      <td>2003-12-17</td>\n",
       "      <td>NaT</td>\n",
       "    </tr>\n",
       "    <tr>\n",
       "      <th>1</th>\n",
       "      <td>E27621</td>\n",
       "      <td>28969</td>\n",
       "      <td>2013-11-27</td>\n",
       "      <td>NaT</td>\n",
       "    </tr>\n",
       "    <tr>\n",
       "      <th>2</th>\n",
       "      <td>E27909</td>\n",
       "      <td>43778</td>\n",
       "      <td>2014-06-20</td>\n",
       "      <td>NaT</td>\n",
       "    </tr>\n",
       "    <tr>\n",
       "      <th>3</th>\n",
       "      <td>E35053</td>\n",
       "      <td>41090</td>\n",
       "      <td>2009-03-01</td>\n",
       "      <td>NaT</td>\n",
       "    </tr>\n",
       "    <tr>\n",
       "      <th>4</th>\n",
       "      <td>E51723</td>\n",
       "      <td>35825</td>\n",
       "      <td>2014-05-23</td>\n",
       "      <td>NaT</td>\n",
       "    </tr>\n",
       "  </tbody>\n",
       "</table>\n",
       "</div>"
      ],
      "text/plain": [
       "   emp_id  salary   start_dt end_dt\n",
       "0  E17469   47418 2003-12-17    NaT\n",
       "1  E27621   28969 2013-11-27    NaT\n",
       "2  E27909   43778 2014-06-20    NaT\n",
       "3  E35053   41090 2009-03-01    NaT\n",
       "4  E51723   35825 2014-05-23    NaT"
      ]
     },
     "execution_count": 6,
     "metadata": {},
     "output_type": "execute_result"
    }
   ],
   "source": [
    "# salary dataframe\n",
    "salary_df = df[['EMP_ID', 'SALARY', 'START_DT', 'END_DT']].copy()\n",
    "salary_df.columns = salary_df.columns.str.lower()\n",
    "\n",
    "salary_df.head()\n"
   ]
  },
  {
   "cell_type": "code",
   "execution_count": 7,
   "metadata": {},
   "outputs": [
    {
     "data": {
      "text/plain": [
       "205"
      ]
     },
     "execution_count": 7,
     "metadata": {},
     "output_type": "execute_result"
    }
   ],
   "source": [
    "# insert data into salary table\n",
    "salary_df.to_sql('salary', engine, if_exists='append', index=False)"
   ]
  },
  {
   "cell_type": "code",
   "execution_count": null,
   "metadata": {},
   "outputs": [],
   "source": []
  }
 ],
 "metadata": {
  "kernelspec": {
   "display_name": "data_architect",
   "language": "python",
   "name": "python3"
  },
  "language_info": {
   "codemirror_mode": {
    "name": "ipython",
    "version": 3
   },
   "file_extension": ".py",
   "mimetype": "text/x-python",
   "name": "python",
   "nbconvert_exporter": "python",
   "pygments_lexer": "ipython3",
   "version": "3.10.15"
  }
 },
 "nbformat": 4,
 "nbformat_minor": 2
}
